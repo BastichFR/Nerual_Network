{
 "cells": [
  {
   "cell_type": "markdown",
   "metadata": {},
   "source": [
    "# TEST NETWORK"
   ]
  },
  {
   "cell_type": "markdown",
   "metadata": {},
   "source": [
    "## Imports "
   ]
  },
  {
   "cell_type": "code",
   "execution_count": 85,
   "metadata": {},
   "outputs": [],
   "source": [
    "import math\n",
    "import numpy as np\n",
    "from random import randint"
   ]
  },
  {
   "cell_type": "markdown",
   "metadata": {},
   "source": [
    "## Classes"
   ]
  },
  {
   "cell_type": "code",
   "execution_count": 86,
   "metadata": {},
   "outputs": [],
   "source": [
    "class Matrix:\n",
    "    def __init__(self, rows: int, cols: int, data: list[list[float]] = None):\n",
    "        self.rows = rows\n",
    "        self.cols = cols\n",
    "        self.data = data if data else [[0.0] * cols for _ in range(rows)]\n",
    "\n",
    "    def shape(self):\n",
    "        print(f\"({self.rows}, {self.cols})\")\n",
    "        \n",
    "    def show(self):\n",
    "        [print(row) for row in self.data]"
   ]
  },
  {
   "cell_type": "code",
   "execution_count": 87,
   "metadata": {},
   "outputs": [],
   "source": [
    "class Layer:\n",
    "    def __init__(self, previous_size: int, size: int):\n",
    "        self.nb_neurons = size\n",
    "        self.W = Matrix(size, previous_size)\n",
    "        self.B = Matrix(size, 1)\n",
    "        self.Z = Matrix(size, 1)\n",
    "        self.A = Matrix(size, 1)\n",
    "\n",
    "    def show(self):\n",
    "        print(f\"nb_neurons: {self.nb_neurons}\")\n",
    "        print(\"W:\", end='')\n",
    "        self.W.shape()\n",
    "        self.W.show()\n",
    "        print(\"B:\", end='')\n",
    "        self.B.shape()\n",
    "        self.B.show()\n",
    "        print(\"Z:\", end='')\n",
    "        self.Z.shape()\n",
    "        self.Z.show()\n",
    "        print(\"A:\", end='')\n",
    "        self.A.shape()\n",
    "        self.A.show()"
   ]
  },
  {
   "cell_type": "code",
   "execution_count": 88,
   "metadata": {},
   "outputs": [],
   "source": [
    "class Neural_Network:\n",
    "    def __init__(self, nb_layers: int, layers: list = []):\n",
    "        self.nb_layers = nb_layers\n",
    "        self.layers = layers\n",
    "\n",
    "    def show(self):\n",
    "        print(f\"nb_layers: {self.nb_layers}\")\n",
    "        for layer in self.layers:\n",
    "            layer.show()"
   ]
  },
  {
   "cell_type": "markdown",
   "metadata": {},
   "source": [
    "## Functions : Matrix"
   ]
  },
  {
   "cell_type": "code",
   "execution_count": 89,
   "metadata": {},
   "outputs": [],
   "source": [
    "def addScalar(matrix: Matrix, scalar: float) -> Matrix:\n",
    "    result = Matrix(matrix.rows, matrix.cols)\n",
    "    for i in range(matrix.rows):\n",
    "        for j in range(matrix.cols):\n",
    "            result.data[i][j] = matrix.data[i][j] + scalar\n",
    "    return result"
   ]
  },
  {
   "cell_type": "code",
   "execution_count": 90,
   "metadata": {},
   "outputs": [],
   "source": [
    "def dotScalar(scalar: float, matrix: Matrix) -> Matrix:\n",
    "    result = Matrix(matrix.rows, matrix.cols)\n",
    "    for i in range(matrix.rows):\n",
    "        for j in range(matrix.cols):\n",
    "            result.data[i][j] = matrix.data[i][j] * scalar\n",
    "    return result"
   ]
  },
  {
   "cell_type": "code",
   "execution_count": 91,
   "metadata": {},
   "outputs": [],
   "source": [
    "def subScalar(scalar: float, matrix: Matrix) -> Matrix:\n",
    "    result = Matrix(matrix.rows, matrix.cols)\n",
    "    for i in range(matrix.rows):\n",
    "        for j in range(matrix.cols):\n",
    "            result.data[i][j] = scalar - matrix.data[i][j]\n",
    "    return result"
   ]
  },
  {
   "cell_type": "code",
   "execution_count": 92,
   "metadata": {},
   "outputs": [],
   "source": [
    "def addMatrix(matrix1: Matrix, matrix2: Matrix) -> Matrix:\n",
    "    result = Matrix(matrix1.rows, matrix1.cols)\n",
    "    for i in range(matrix1.rows):\n",
    "        for j in range(matrix1.cols):\n",
    "            result.data[i][j] = matrix1.data[i][j] + matrix2.data[i][j]\n",
    "    return result"
   ]
  },
  {
   "cell_type": "code",
   "execution_count": 93,
   "metadata": {},
   "outputs": [],
   "source": [
    "def subMatrix(matrix1: Matrix, matrix2: Matrix) -> Matrix:\n",
    "    result = Matrix(matrix1.rows, matrix1.cols)\n",
    "    for i in range(matrix1.rows):\n",
    "        for j in range(matrix1.cols):\n",
    "            result.data[i][j] = matrix1.data[i][j] - matrix2.data[i][j]\n",
    "    return result"
   ]
  },
  {
   "cell_type": "code",
   "execution_count": 94,
   "metadata": {},
   "outputs": [],
   "source": [
    "def dotMatrix(matrix1: Matrix, matrix2: Matrix) -> Matrix:\n",
    "    result = Matrix(matrix1.rows, matrix2.cols)\n",
    "    for i in range(matrix1.rows):\n",
    "        for j in range(matrix2.cols):\n",
    "            for k in range(matrix1.cols):\n",
    "                result.data[i][j] += matrix1.data[i][k] * matrix2.data[k][j]\n",
    "    return result"
   ]
  },
  {
   "cell_type": "code",
   "execution_count": 95,
   "metadata": {},
   "outputs": [],
   "source": [
    "def funcMatrix(matrix: Matrix, func) -> Matrix:\n",
    "    result = Matrix(matrix.rows, matrix.cols)\n",
    "    for i in range(matrix.rows):\n",
    "        for j in range(matrix.cols):\n",
    "            result.data[i][j] = func(matrix.data[i][j])\n",
    "    return result"
   ]
  },
  {
   "cell_type": "code",
   "execution_count": 96,
   "metadata": {},
   "outputs": [],
   "source": [
    "def transposeMatrix(matrix: Matrix) -> Matrix:\n",
    "    result = Matrix(matrix.cols, matrix.rows)\n",
    "    for i in range(matrix.rows):\n",
    "        for j in range(matrix.cols):\n",
    "            result.data[j][i] = matrix.data[i][j]\n",
    "    return result"
   ]
  },
  {
   "cell_type": "code",
   "execution_count": 97,
   "metadata": {},
   "outputs": [],
   "source": [
    "def copyMatrix(matrix: Matrix) -> Matrix:\n",
    "    result = Matrix(matrix.rows, matrix.cols)\n",
    "    for i in range(matrix.rows):\n",
    "        for j in range(matrix.cols):\n",
    "            result.data[i][j] = matrix.data[i][j]\n",
    "    return result"
   ]
  },
  {
   "cell_type": "code",
   "execution_count": 98,
   "metadata": {},
   "outputs": [],
   "source": [
    "def sumMatrix(matrix: Matrix) -> float:\n",
    "    result = 0\n",
    "    for i in range(matrix.rows):\n",
    "        for j in range(matrix.cols):\n",
    "            result += matrix.data[i][j]\n",
    "    return result"
   ]
  },
  {
   "cell_type": "code",
   "execution_count": 99,
   "metadata": {},
   "outputs": [],
   "source": [
    "def sumMatrixAxis(matrix: Matrix, axis: int) -> Matrix:\n",
    "    result = Matrix(1, matrix.cols) if axis == 0 else Matrix(matrix.rows, 1)\n",
    "    for i in range(matrix.rows):\n",
    "        for j in range(matrix.cols):\n",
    "            if axis == 0:\n",
    "                result.data[0][j] += matrix.data[i][j]\n",
    "            else:\n",
    "                result.data[i][0] += matrix.data[i][j]\n",
    "    return result"
   ]
  },
  {
   "cell_type": "markdown",
   "metadata": {},
   "source": [
    "## Functions : Network"
   ]
  },
  {
   "cell_type": "code",
   "execution_count": 100,
   "metadata": {},
   "outputs": [],
   "source": [
    "def load_nn(path: str) -> Neural_Network:\n",
    "    f =  open(path, 'r')\n",
    "\n",
    "    line = f.readline()\n",
    "\n",
    "    if line.startswith('dataIn'):\n",
    "        previous_size = int(line.split(' ')[1])\n",
    "        line = f.readline()\n",
    "\n",
    "    if line.startswith('Layer'):\n",
    "        layer = Layer(previous_size, 1)\n",
    "        network = Neural_Network(int(line.split(' ')[1]) + 1, [layer])\n",
    "\n",
    "    for _ in range(network.nb_layers - 1):\n",
    "        line = f.readline()\n",
    "\n",
    "        size = int(line.split(' ')[1])\n",
    "        layer = Layer(previous_size, size)\n",
    "\n",
    "        for index in range(size):\n",
    "            line = f.readline()\n",
    "            sep = line.find('|') + 1\n",
    "            \n",
    "            layer.B.data[index][0] = float(line[0:sep - 1])\n",
    "            token = [float(x) for x in line[sep+1:-2].split(', ')]\n",
    "\n",
    "            for j in range(len(token)):\n",
    "                layer.W.data[index][j] = token[j]\n",
    "\n",
    "        previous_size = size\n",
    "        network.layers.append(layer)\n",
    "\n",
    "    f.close()\n",
    "    return network"
   ]
  },
  {
   "cell_type": "code",
   "execution_count": 101,
   "metadata": {},
   "outputs": [],
   "source": [
    "def save_nn(path: str, network: Neural_Network) -> None:\n",
    "    f =  open(path, 'w')\n",
    "\n",
    "    f.write(f\"dataIn {network.layers[0].W.cols}\\n\")\n",
    "    f.write(f\"Layer {network.nb_layers - 1}\\n\")\n",
    "    \n",
    "    for layer in network.layers[1:]:\n",
    "        f.write(f\"Neuron {layer.nb_neurons}\\n\")\n",
    "\n",
    "        for index in range(layer.nb_neurons):\n",
    "            weights = \", \".join(str(weight) for weight in layer.W.data[index])\n",
    "            write = f\"{layer.B.data[index][0]}|[{weights}]\\n\" \n",
    "            f.write(write)\n",
    "\n",
    "    f.close()"
   ]
  },
  {
   "cell_type": "code",
   "execution_count": 102,
   "metadata": {},
   "outputs": [],
   "source": [
    "def initiate_nn(network: Neural_Network) -> None:\n",
    "    for layer in network.layers[1:]:\n",
    "        for i in range(layer.W.rows):\n",
    "            for j in range(layer.W.cols):\n",
    "                layer.W.data[i][j] = randint(0, 100) / 100\n",
    "            layer.B.data[i][0] = randint(0, 100) / 100"
   ]
  },
  {
   "cell_type": "code",
   "execution_count": 103,
   "metadata": {},
   "outputs": [],
   "source": [
    "def create_network(nb_layers: int, nb_neurons: list[int], input_size: int) -> Neural_Network:\n",
    "    layer = Layer(input_size, 1)\n",
    "    network = Neural_Network(nb_layers + 1, [layer])\n",
    "\n",
    "    nb_neurons.insert(0, input_size)\n",
    "\n",
    "    for i in range(nb_layers):\n",
    "        layer = Layer(nb_neurons[i], nb_neurons[i + 1])\n",
    "        network.layers.append(layer)\n",
    "\n",
    "    initiate_nn(network)\n",
    "    return network"
   ]
  },
  {
   "cell_type": "markdown",
   "metadata": {},
   "source": [
    "## Function : Activation"
   ]
  },
  {
   "cell_type": "code",
   "execution_count": 104,
   "metadata": {},
   "outputs": [],
   "source": [
    "def sigmoid(x: float) -> float:\n",
    "    return 1 / (1 + math.exp(-x))"
   ]
  },
  {
   "cell_type": "code",
   "execution_count": 105,
   "metadata": {},
   "outputs": [],
   "source": [
    "def sigmoid_derivative(x: float) -> float:\n",
    "    return sigmoid(x) * (1 - sigmoid(x))"
   ]
  },
  {
   "cell_type": "code",
   "execution_count": 106,
   "metadata": {},
   "outputs": [],
   "source": [
    "def softmax(matrix: Matrix) -> Matrix:\n",
    "    result = Matrix(matrix.rows, matrix.cols)\n",
    "    for i in range(matrix.rows):\n",
    "        sum = 0.0\n",
    "        for j in range(matrix.cols):\n",
    "            sum += math.exp(matrix.data[i][j])\n",
    "        for j in range(matrix.cols):\n",
    "            result.data[i][j] = math.exp(matrix.data[i][j]) / sum\n",
    "    return result"
   ]
  },
  {
   "cell_type": "markdown",
   "metadata": {},
   "source": [
    "## Exec : Network"
   ]
  },
  {
   "cell_type": "code",
   "execution_count": 107,
   "metadata": {},
   "outputs": [],
   "source": [
    "def feedforeward(network: Neural_Network, data: Matrix) -> Matrix:\n",
    "    \n",
    "    input_layer = network.layers[0]\n",
    "    input_layer.A = data\n",
    "    \n",
    "    X = input_layer.A\n",
    "\n",
    "    for i in range(1, network.nb_layers):\n",
    "        layer = network.layers[i]\n",
    "\n",
    "        layer.W.shape()\n",
    "        X.shape()\n",
    "\n",
    "        layer.Z = dotMatrix(layer.W, X)\n",
    "        layer.A = funcMatrix(layer.Z, sigmoid)\n",
    "        X = layer.A\n",
    "\n",
    "    return X"
   ]
  },
  {
   "cell_type": "code",
   "execution_count": 108,
   "metadata": {},
   "outputs": [],
   "source": [
    "def update(Layer: Layer, dW: Matrix, dB: Matrix, learning_rate: float) -> None:\n",
    "    Layer.W = subMatrix(Layer.W, dotScalar(learning_rate, dW)) \n",
    "    Layer.B = subMatrix(Layer.B, dotScalar(learning_rate, dB))"
   ]
  },
  {
   "cell_type": "code",
   "execution_count": 109,
   "metadata": {},
   "outputs": [],
   "source": [
    "def back_propagation(network: Neural_Network, data: Matrix, expected: int, learning_rate: float) -> None:\n",
    "    \n",
    "    \n",
    "    m = data.cols\n",
    "    C = network.nb_layers - 1\n",
    "\n",
    "\n",
    "    dZ = subScalar(expected, network.layers[C].A)\n",
    "\n",
    "    for i in range(network.nb_layers - 1, 0, -1):\n",
    "\n",
    "        dW = dotScalar(1/m, dotMatrix(dZ, transposeMatrix(network.layers[i - 1].A)))\n",
    "        dB = dotScalar(1/m, sumMatrixAxis(dZ, 1))\n",
    "\n",
    "        if i > 1:\n",
    "\n",
    "            dZ = dotMatrix(transposeMatrix(network.layers[i].W), dZ)\n",
    "            dZ = dotMatrix(dZ, network.layers[i - 1].A)\n",
    "            sp = dotScalar(-1, network.layers[i - 1].A)\n",
    "            dZ = dotMatrix(dZ, funcMatrix(sp, sigmoid_derivative))\n",
    "\n",
    "        update(network.layers[i], dW, dB, learning_rate)\n"
   ]
  },
  {
   "cell_type": "markdown",
   "metadata": {},
   "source": [
    "## Main"
   ]
  },
  {
   "cell_type": "code",
   "execution_count": 110,
   "metadata": {},
   "outputs": [],
   "source": [
    "def deep_neural_network(path: str, data: Matrix, expected: int, iter: int, learning_rate: float) -> None:\n",
    "\n",
    "    network = create_network(3, [2, 2, 1], 2)\n",
    "\n",
    "    feedforeward(network, data)\n",
    "\n",
    "    for _ in range(iter):\n",
    "        back_propagation(network, data, expected, learning_rate)"
   ]
  },
  {
   "cell_type": "code",
   "execution_count": 111,
   "metadata": {},
   "outputs": [],
   "source": [
    "def predict(network: Neural_Network, data: Matrix) -> Matrix:\n",
    "\n",
    "    return feedforeward(network, data)"
   ]
  },
  {
   "cell_type": "markdown",
   "metadata": {},
   "source": [
    "## Run"
   ]
  },
  {
   "cell_type": "code",
   "execution_count": 112,
   "metadata": {
    "tags": []
   },
   "outputs": [
    {
     "name": "stdout",
     "output_type": "stream",
     "text": [
      "(2, 2)\n",
      "(2, 1)\n",
      "(2, 2)\n",
      "(2, 1)\n",
      "(1, 2)\n",
      "(2, 1)\n",
      "[0.6406381312808671]\n",
      "(2, 2)\n",
      "(2, 1)\n",
      "(2, 2)\n",
      "(2, 1)\n",
      "(1, 2)\n",
      "(2, 1)\n"
     ]
    }
   ],
   "source": [
    "iter = 100\n",
    "\n",
    "X = Matrix(2, 1, [[0], [0]])\n",
    "\n",
    "network = create_network(3, [2, 2, 1], 2)\n",
    "predict(network, X).show()\n",
    "\n",
    "deep_neural_network(\"\", X, 0, 1, 0.01)\n"
   ]
  }
 ],
 "metadata": {
  "kernelspec": {
   "display_name": "python3",
   "language": "python3",
   "name": "python3"
  },
  "language_info": {
   "codemirror_mode": {
    "name": "ipython",
    "version": 3
   },
   "file_extension": ".py",
   "mimetype": "text/x-python",
   "name": "python",
   "nbconvert_exporter": "python",
   "pygments_lexer": "ipython3",
   "version": "3.12.0"
  }
 },
 "nbformat": 4,
 "nbformat_minor": 4
}
